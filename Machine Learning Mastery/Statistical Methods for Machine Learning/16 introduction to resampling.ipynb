{
 "metadata": {
  "language_info": {
   "codemirror_mode": {
    "name": "ipython",
    "version": 3
   },
   "file_extension": ".py",
   "mimetype": "text/x-python",
   "name": "python",
   "nbconvert_exporter": "python",
   "pygments_lexer": "ipython3",
   "version": 3
  },
  "orig_nbformat": 2
 },
 "nbformat": 4,
 "nbformat_minor": 2,
 "cells": [
  {
   "source": [
    "Chapter 16\n",
    "# Introduction to Resampling"
   ],
   "cell_type": "markdown",
   "metadata": {}
  },
  {
   "source": [
    "Data sampling refers to statistical methods for selecting observations from the domain with the objective of estimating a population parameter.\n",
    "\n",
    "Data resampling refers to methods for economically using a collected dataset to improve the estimate of the population parameter, and help quantify the uncertainty of the estimate\n",
    "\n",
    "Both data sampling and data resampling are methods required in a predictive modelling problem"
   ],
   "cell_type": "markdown",
   "metadata": {}
  },
  {
   "source": [
    "# Statistical Sampling\n",
    "Sampling is an active process of gathering observations with the intent of estimating a population variable\n",
    "\n",
    "Observations made in a domain represent samples of some broader idealised and unknown population of all possible observations that could be made in the domain.  We may wish to estimate properties of the population: this is done by using samples of observations.\n",
    "\n",
    "Statistical sampling is the process of selecting subsets of examples from a population with the objective of estimating properties of the population.  Sampling is an active process.  As a field, it sits between uncontrolled observation and controlled experimentation.\n",
    "\n",
    "In order to perform sampling, you must carefully define your population, and the method by which you will select (and possibly reject) observations to be part of your data sample.  Aspects to consider include:\n",
    "- Sample Goal - the population property you wish to estimate using the sample\n",
    "- Population - the scope or domain from which observations could theoretically be made\n",
    "- Selection Criteria - the methodology that will be used to accept or reject observations in your sample\n",
    "- Sample Size - the number of observations that will constitute the sample\n",
    "\n",
    "In applied machine learning, there may be 3 types of sampling you are likely to use:\n",
    "- Simple Random Sampling - samples are drawn with uniform probability from the domain\n",
    "- Systematic Sampling - samples are drawn using a pre-specified pattern e.g. at intervals\n",
    "- Stratified Sampling - samples are drawn within pre-specified categories i.e. strata"
   ],
   "cell_type": "markdown",
   "metadata": {}
  },
  {
   "source": [
    "# Sampling Errors\n",
    "Sampling requires that we make a statistical inference about the population from a small set of observations.  This process of estimation and generalisation is much faster than working with all possible observations, but will contain errors.  The two main types of error include:\n",
    "- Selection Bias - caused when the method of drawing observations skews the sample in some way\n",
    "- Sampling Error - caused due to the random nature of drawing observations skews the sample in some way\n",
    "\n",
    "Care must be taken both when sampling and when drawing conflusions about the population while sampling"
   ],
   "cell_type": "markdown",
   "metadata": {}
  },
  {
   "source": [
    "# Statistical Resampling\n",
    "Once we have a data sample, it can be used to estimate the population parameter.  However, we have a single estimate of the population parameter, with little idea of the variability or uncertainty in the estimate.  One way to address this is by estimating the population parameter multiple times from our data sample: resampling.\n",
    "\n",
    "Resampling is a methodology of economically using a data sample to improve the accuracy (e.g. taking the mean of the estimates) and quantify the uncertainty (e.g. by adding a confidence interval) of a population parameter\n",
    "\n",
    "Resampling methods are easy to understand and implement, but can be computationally very expensive, requiring tens, hundreds or even thousands of samples in order to develop a robust estimate of the population parameter.\n",
    "\n",
    "Two commonly used resampling methods are:\n",
    "- Bootstrap - samples are drawn from the dataset with replacement, where those instances not not drawn into the data sample may be used for the test set\n",
    "- k-fold cross-validation - a dataset is partitioned into k groups, where each group is given the opportunity of being used as a test set, leaving the remaining groups as the training set\n",
    "\n",
    "The k-fold cross-validation method specifically lends itself to use in the evaluation of predictive models that are repeatedly trained on one subset of the data and evaluated on a second held-out subset of the data.\n",
    "\n",
    "The bootstrap method can be used for the same purpose, but is a more general and simpler method intended for estimating a population parameter."
   ],
   "cell_type": "markdown",
   "metadata": {}
  },
  {
   "cell_type": "code",
   "execution_count": null,
   "metadata": {},
   "outputs": [],
   "source": []
  }
 ]
}