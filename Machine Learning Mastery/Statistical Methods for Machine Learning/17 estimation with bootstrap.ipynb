{
 "metadata": {
  "language_info": {
   "codemirror_mode": {
    "name": "ipython",
    "version": 3
   },
   "file_extension": ".py",
   "mimetype": "text/x-python",
   "name": "python",
   "nbconvert_exporter": "python",
   "pygments_lexer": "ipython3",
   "version": "3.8.5-final"
  },
  "orig_nbformat": 2,
  "kernelspec": {
   "name": "python3",
   "display_name": "Python 3",
   "language": "python"
  }
 },
 "nbformat": 4,
 "nbformat_minor": 2,
 "cells": [
  {
   "source": [
    "Chapter 17\n",
    "# Estimation with Bootstrap"
   ],
   "cell_type": "markdown",
   "metadata": {}
  },
  {
   "source": [
    "The bootstrap method is a resampling technique used to estimate statistics on a population by sampling a dataset with replacement.  It can be used to estimate summary statistics such as the mean or standard deviation.\n",
    "\n",
    "It is used in applied machine learning to estimate the skill of machine learning momdels when making predictions on data not included in the training data."
   ],
   "cell_type": "markdown",
   "metadata": {}
  },
  {
   "source": [
    "# Bootstrap Method\n",
    "This is a statistical technique for estimating quantities about a population by averaging estimates from multiple small data samples.\n",
    "\n",
    "Samples are constructed by drawing observations from a large data sample one at a time, and returning them to the data sample after they have been chosen (sampling with replacement).  This allows a given observation to be included in a given small sample more than once.\n",
    "\n",
    "The bootstrap method can be used to estimate the quantity of a population, by repeatedly taking small samples, calculating the statistic, and taking the average of the calculated statistics.\n",
    "\n",
    "1. choose a number of bootstrap samples to perform\n",
    "2. choose a sample size\n",
    "3. for each bootstrap sample:\n",
    "- draw a sample of the specified size with replacement\n",
    "- calculate the statistic on the sample\n",
    "4. calculate the mean of the calculated sample statistics"
   ],
   "cell_type": "markdown",
   "metadata": {}
  },
  {
   "source": [
    "The procedure can also be used to estimate the skill of a machine learning model.  This is done by training the model on the sample, and evaluating the skill of the model on those samples not included in the sample (known as out-of-bag samples or OOB)\n",
    "\n",
    "1. choose a number of bootstrap samples to perform\n",
    "2. choose a sample size\n",
    "3. for each bootstrap sample:\n",
    "- draw a sample of the specified size with replacement\n",
    "- fit a model on the data sample\n",
    "- estimate the skill of the model on the out-of-bag sample\n",
    "4. calculate the mean of the sample of model skill estimates\n",
    "\n",
    "Importantly, any data preparation prior to fitting the model must occur within the for-loop on the data sample.  This is to avoid data leakage, where knowledge of the test dataset is used to improve the model.\n",
    "\n",
    "A useful feature of the bootstrap method is that the resulting sample of estimations often forms a Gaussian distribution"
   ],
   "cell_type": "markdown",
   "metadata": {}
  },
  {
   "source": [
    "# Configuration of the Bootstrap\n",
    "There are two parameters that must be chosen when performing the bootstrap\n",
    "- Sample Size - in machine learning, it is common to use a sample size that is the same as the original dataset (unless computational efficiency is an issue)\n",
    "- Repetitions - must be large enough to ensure that meaningful statistics can be calculated on the sample.  A minimum might be 20 or 30 repetitions.  A smaller number would further add variance to the estimated statistic.  Ideally, the repetitions would be as large as possible given the time resources (hundreds or thousands)"
   ],
   "cell_type": "markdown",
   "metadata": {}
  },
  {
   "source": [
    "# Worked Example\n",
    "Imagine we hae a dataset with 6 observations.\n",
    "- data = [0.1, 0.2, 0.3, 0.4, 0.5, 0.6]\n",
    "\n",
    "We will choose the size of the sample (4), and randomly choose the first observation from the dataset.\n",
    "- sample = [0.2]\n",
    "\n",
    "Return the observation to the dataset, and repeat this step 3 more times.  We now have our data sample.\n",
    "- sample = [0.2, 0.1, 0.2, 0.6]\n",
    "\n",
    "An estimate can then be calculated on the drawn sample.\n",
    "- statistic = calculation([0.2, 0.1, 0.2, 0.6])\n",
    "\n",
    "Observations not chosen for the sample may be used as out of sample observations (OOB)\n",
    "- oob = [0.3, 0.4, 0.5]\n",
    "\n",
    "To evaluate a machine learning model, the model is fit on the sample, and evaluated on the OOB sample.\n",
    "- train = [0.2, 0.1. 0.2, 0.6]\n",
    "- test = [0.3, 0.4, 0.6] \n",
    "- model = fit(train)\n",
    "- statistic = evaluation(model, test)\n",
    "\n",
    "The above is repeated 30+ times to give a sample of calculated statistics.\n",
    "The sample of statistics can then be summarised by calculating e.g. mean, standard deviation\n",
    "\n",
    "The bootstrap method does not have to be implemented manually.  The scikit-learn function resample() can be used.  It takes the arguments:\n",
    "- data array\n",
    "- whether or not to sample with replacement\n",
    "- size of sample\n",
    "- seed for pseudorandom number generator used prior to sampling\n",
    "\n",
    "Unfortunately the API does not include any mechanism to gather easily the OOB observations"
   ],
   "cell_type": "markdown",
   "metadata": {}
  },
  {
   "cell_type": "code",
   "execution_count": 2,
   "metadata": {},
   "outputs": [
    {
     "output_type": "stream",
     "name": "stdout",
     "text": [
      "Bootstrap Sample: [0.6, 0.4, 0.5, 0.1]\nOOB Sample: [0.2, 0.3]\n"
     ]
    }
   ],
   "source": [
    "# scikit-learn bootstrap\n",
    "from sklearn.utils import resample\n",
    "\n",
    "# data sample\n",
    "data = [0.1, 0.2, 0.3, 0.4, 0.5, 0.6]\n",
    "\n",
    "# prepare bootstrap sample\n",
    "boot = resample(data, replace=True, n_samples=4, random_state=1)\n",
    "print('Bootstrap Sample: %s' % boot)\n",
    "\n",
    "# out of bag observations\n",
    "oob = [x for x in data if x not in boot]\n",
    "print('OOB Sample: %s' % oob)"
   ]
  },
  {
   "source": [
    "# Extensions"
   ],
   "cell_type": "markdown",
   "metadata": {}
  },
  {
   "cell_type": "code",
   "execution_count": 22,
   "metadata": {},
   "outputs": [
    {
     "output_type": "stream",
     "name": "stdout",
     "text": [
      "Data: [23 25 95 16 30 81 17 54 53 54 86 66 47 83 27 97 21 14 24 81 41 92  3 28\n 31 79 69 23 52 72 59 72 38 88  7 97 44 88 20  4 57 59  4 49 65 16 84  1\n 86 84  6 54 32 19 51 77 72 27  8 51 75 21 44 12 35 59 17  3 16 39 80 38\n  2 91 76 73 31 10 73 73 47 91 15 73  8 18 76 97 70 16  0 71 61 69 31 13\n 76 18 71 42]\nBootstrap Sample: [88 47  2 54 73 81 73 35 21 25 31 38 17 79  6 41 24  8 66 52 72 27  6 16\n 97 97 31 76 76 83 54 54 12 21  3 27 25 23 75 91 53 70 83  1  2 59 38 16\n 80 92 84 27 16 16 31 49 31 69 32 47 59 15 97 35 16 79 71 97 54 69 79  3\n 54  3 28 23 88 27 73 20 53 38  7 86 28 97 97 79 38 61 76 44 84 38 70 28\n 77 59 10 16]\nOOB Sample: [95, 30, 14, 4, 57, 4, 65, 19, 51, 51, 39, 18, 0, 13, 18, 42]\n"
     ]
    }
   ],
   "source": [
    "# implement your own function to create a sample and OOB sample with the bootstrap method\n",
    "import numpy as np\n",
    "from sklearn.utils import resample\n",
    "\n",
    "# data sample\n",
    "data = np.random.randint(0, 100, 100)\n",
    "print('Data:', data)\n",
    "\n",
    "# prepare bootstrap sample\n",
    "boot = resample(data, replace=True, n_samples=100, random_state=1)\n",
    "print('Bootstrap Sample: %s' % boot)\n",
    "\n",
    "# out of bag observations\n",
    "oob = [x for x in data if x not in boot]\n",
    "print('OOB Sample: %s' % oob)"
   ]
  },
  {
   "cell_type": "code",
   "execution_count": null,
   "metadata": {},
   "outputs": [],
   "source": []
  }
 ]
}