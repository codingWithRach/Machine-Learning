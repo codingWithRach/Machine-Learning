{
 "metadata": {
  "language_info": {
   "codemirror_mode": {
    "name": "ipython",
    "version": 3
   },
   "file_extension": ".py",
   "mimetype": "text/x-python",
   "name": "python",
   "nbconvert_exporter": "python",
   "pygments_lexer": "ipython3",
   "version": "3.8.5-final"
  },
  "orig_nbformat": 2,
  "kernelspec": {
   "name": "python3",
   "display_name": "Python 3",
   "language": "python"
  }
 },
 "nbformat": 4,
 "nbformat_minor": 2,
 "cells": [
  {
   "source": [
    "Chapter 6\n",
    "# Random Numbers"
   ],
   "cell_type": "markdown",
   "metadata": {}
  },
  {
   "source": [
    "We don't need true randomness in machine learning.  Instead we can use pseudorandomness i.e. a sample of numbers that look close to random, but were generated using a deterministic process.\n",
    "\n",
    "Shuffling data and initialising coefficients with random values use pseudorandom number generators.\n",
    "\n",
    "The numbers are generated in a sequence.  The sequence is deterministic and is seeded with an initial number.  The same seeding of the process will result in the same sequence of random numbers.\n",
    "\n",
    "If you do not explicitly seed the pseudorandom number generator, it may use the current system time as the seed."
   ],
   "cell_type": "markdown",
   "metadata": {}
  },
  {
   "source": [
    "# Python: Seeding\n",
    "Python provides a module called random offering a suite of functions for generating random numbers.  Python uses the Mersenne Twister as its pseudorandom number generator.\n",
    "\n",
    "If no seed is specified, the current system time in milliseconds from epoch (1970) is used\n",
    "\n",
    "It can be useful to control the randomness by setting the seed to ensure that your code produces the same result each time, such as in a production model.\n",
    "\n",
    "For running experiments where randomisation is used to control for confounding variables, a different seed may be used for each experimental run."
   ],
   "cell_type": "markdown",
   "metadata": {}
  },
  {
   "cell_type": "code",
   "execution_count": 1,
   "metadata": {},
   "outputs": [
    {
     "output_type": "stream",
     "name": "stdout",
     "text": [
      "0.13436424411240122 0.8474337369372327 0.763774618976614\n0.13436424411240122 0.8474337369372327 0.763774618976614\n"
     ]
    }
   ],
   "source": [
    "# seed the pseudorandom number generator\n",
    "from random import seed\n",
    "from random import random\n",
    "\n",
    "# seed random number generator (the argument is an integer)\n",
    "seed(1)\n",
    "\n",
    "# generate some random numbers\n",
    "print(random(), random(), random())\n",
    "\n",
    "# reset the seed\n",
    "seed(1)\n",
    "\n",
    "# generate some random numbers - the same sequence of numbers is generated\n",
    "print(random(), random(), random())"
   ]
  },
  {
   "source": [
    "# Python: Random Floating Point Values\n",
    "The random() function generates values in the range [0, 1) i.e. 0 is included in the range but 1 is excluded.  Each value has an equal chance of being drawn\n",
    "\n",
    "Floating point values could be rescaled to a desired range by:\n",
    "- multipllying them by the size of the new range\n",
    "- adding the min value\n",
    "\n",
    "scaledvalue = min + (value x (max - min))"
   ],
   "cell_type": "markdown",
   "metadata": {}
  },
  {
   "cell_type": "code",
   "execution_count": 3,
   "metadata": {},
   "outputs": [
    {
     "output_type": "stream",
     "name": "stdout",
     "text": [
      "0.13436424411240122\n0.8474337369372327\n0.763774618976614\n0.2550690257394217\n0.49543508709194095\n0.4494910647887381\n0.651592972722763\n0.7887233511355132\n0.0938595867742349\n0.02834747652200631\n"
     ]
    }
   ],
   "source": [
    "# generate random floating point values\n",
    "from random import seed\n",
    "from random import random\n",
    "\n",
    "# seed random number generator\n",
    "seed(1)\n",
    "\n",
    "# generate random numbers between 0-1\n",
    "for _ in range(10):\n",
    "    value = random()\n",
    "    print(value)"
   ]
  },
  {
   "source": [
    "# Python: Random Integer Values\n",
    "Random integer values can be generated using the randint() function, specifying the start and end of the range.  Integer values are generated in the range [start, end] i.e. both start and end values are included."
   ],
   "cell_type": "markdown",
   "metadata": {}
  },
  {
   "cell_type": "code",
   "execution_count": 8,
   "metadata": {},
   "outputs": [
    {
     "output_type": "stream",
     "name": "stdout",
     "text": [
      "2\n9\n1\n4\n1\n7\n7\n7\n10\n6\n"
     ]
    }
   ],
   "source": [
    "# generate random integer values\n",
    "from random import seed\n",
    "from random import randint\n",
    "\n",
    "# seed random number generator\n",
    "seed(1)\n",
    "\n",
    "# generate some integers\n",
    "for _ in range(10):\n",
    "    value = randint(0, 10)\n",
    "    print(value)"
   ]
  },
  {
   "source": [
    "# Python: Random Gaussian Values\n",
    "Random floating point values can be drawn from a Gaussian (aka normal) distribution using the gauss() function, specifying the mean and standard deviation."
   ],
   "cell_type": "markdown",
   "metadata": {}
  },
  {
   "cell_type": "code",
   "execution_count": 9,
   "metadata": {},
   "outputs": [
    {
     "output_type": "stream",
     "name": "stdout",
     "text": [
      "1.2881847531554629\n1.449445608699771\n0.06633580893826191\n-0.7645436509716318\n-1.0921732151041414\n0.03133451683171687\n-1.022103170010873\n-1.4368294451025299\n0.19931197648375384\n0.13337460465860485\n"
     ]
    }
   ],
   "source": [
    "# generate random Gaussian values\n",
    "from random import seed\n",
    "from random import gauss\n",
    "\n",
    "# seed random number generator\n",
    "seed(1)\n",
    "\n",
    "# generate some Gaussian values\n",
    "for _ in range(10):\n",
    "    value = gauss(0, 1)\n",
    "    print(value)"
   ]
  },
  {
   "source": [
    "# Python: Randomly Choosing from a List\n",
    "The choice() function can be used to randomly select an item from a list.  Selections are made with uniform likelihood"
   ],
   "cell_type": "markdown",
   "metadata": {}
  },
  {
   "cell_type": "code",
   "execution_count": 10,
   "metadata": {},
   "outputs": [
    {
     "output_type": "stream",
     "name": "stdout",
     "text": [
      "[0, 1, 2, 3, 4, 5, 6, 7, 8, 9, 10, 11, 12, 13, 14, 15, 16, 17, 18, 19]\n4\n18\n2\n8\n3\n"
     ]
    }
   ],
   "source": [
    "# choose a random element from a list\n",
    "from random import seed\n",
    "from random import choice\n",
    "\n",
    "# seed random number generator\n",
    "seed(1)\n",
    "\n",
    "# prepare a sequence\n",
    "sequence = [i for i in range(20)]\n",
    "print(sequence)\n",
    "\n",
    "# make choices from the sequence\n",
    "for _ in range(5):\n",
    "    selection = choice(sequence)\n",
    "    print(selection)"
   ]
  },
  {
   "source": [
    "# Python: Random Subsample from a List\n",
    "We may be interested in repeating the random selection of items from a list to create a randomly chosen subset.  Once an item is selected from the list and added to the subset, it should not be added again i.e. selection without replacement.  This is achieved using the sample() function, specifying the list and the size of the subset."
   ],
   "cell_type": "markdown",
   "metadata": {}
  },
  {
   "cell_type": "code",
   "execution_count": 11,
   "metadata": {},
   "outputs": [
    {
     "output_type": "stream",
     "name": "stdout",
     "text": [
      "[0, 1, 2, 3, 4, 5, 6, 7, 8, 9, 10, 11, 12, 13, 14, 15, 16, 17, 18, 19]\n[4, 18, 2, 8, 3]\n"
     ]
    }
   ],
   "source": [
    "# select a random sample without replacement\n",
    "from random import seed\n",
    "from random import sample\n",
    "\n",
    "# seed random number generator\n",
    "seed(1)\n",
    "\n",
    "# prepare a sequence\n",
    "sequence = [i for i in range(20)]\n",
    "print(sequence)\n",
    "\n",
    "# select a subset without replacement\n",
    "subset = sample(sequence, 5)\n",
    "print(subset)"
   ]
  },
  {
   "source": [
    "# Python: Randomly Shuffle a List\n",
    "The shuffle() function can be used to shuffle a list in place (rather than returning a shuffled copy of the original list)"
   ],
   "cell_type": "markdown",
   "metadata": {}
  },
  {
   "cell_type": "code",
   "execution_count": 12,
   "metadata": {},
   "outputs": [
    {
     "output_type": "stream",
     "name": "stdout",
     "text": [
      "[0, 1, 2, 3, 4, 5, 6, 7, 8, 9, 10, 11, 12, 13, 14, 15, 16, 17, 18, 19]\n[11, 5, 17, 19, 9, 0, 16, 1, 15, 6, 10, 13, 14, 12, 7, 3, 8, 2, 18, 4]\n"
     ]
    }
   ],
   "source": [
    "# randomly shuffle a sequence\n",
    "from random import seed\n",
    "from random import shuffle\n",
    "\n",
    "# seed random number generator\n",
    "seed(1)\n",
    "\n",
    "# prepare a sequence\n",
    "sequence = [i for i in range(20)]\n",
    "print(sequence)\n",
    "\n",
    "# randomly shuffle the sequence\n",
    "shuffle(sequence)\n",
    "print(sequence)"
   ]
  },
  {
   "source": [
    "# NumPy: Seeding\n",
    "NumPy also uses the Mersenne Twister pseudorandom number generator.  However, note that seeding the Python pseudorandom number generator does not affect the NumPy pseudorandom number generator"
   ],
   "cell_type": "markdown",
   "metadata": {}
  },
  {
   "cell_type": "code",
   "execution_count": 13,
   "metadata": {},
   "outputs": [
    {
     "output_type": "stream",
     "name": "stdout",
     "text": [
      "[4.17022005e-01 7.20324493e-01 1.14374817e-04]\n[4.17022005e-01 7.20324493e-01 1.14374817e-04]\n"
     ]
    }
   ],
   "source": [
    "# seed the pseudorandom number generator\n",
    "from numpy.random import seed\n",
    "from numpy.random import rand\n",
    "\n",
    "# seed random number generator, specifying an integer value\n",
    "seed(1)\n",
    "\n",
    "# generate some random numbers\n",
    "print(rand(3))\n",
    "\n",
    "# reset the seed\n",
    "seed(1)\n",
    "\n",
    "# generate some random numbers - the same sequence of numbers is generated\n",
    "print(rand(3))"
   ]
  },
  {
   "source": [
    "# NumPy: Array of Random Floating Point Values\n",
    "The rand() NumPy function is used to generate an array of random floating point values, specifying the size of the array.  If not argument is provided, a single random value is created"
   ],
   "cell_type": "markdown",
   "metadata": {}
  },
  {
   "cell_type": "code",
   "execution_count": 14,
   "metadata": {},
   "outputs": [
    {
     "output_type": "stream",
     "name": "stdout",
     "text": [
      "[4.17022005e-01 7.20324493e-01 1.14374817e-04 3.02332573e-01\n 1.46755891e-01 9.23385948e-02 1.86260211e-01 3.45560727e-01\n 3.96767474e-01 5.38816734e-01]\n"
     ]
    }
   ],
   "source": [
    "# generate random floating point values\n",
    "from numpy.random import seed\n",
    "from numpy.random import rand\n",
    "\n",
    "# seed random number generator\n",
    "seed(1)\n",
    "\n",
    "# generate random numbers between 0-1\n",
    "values = rand(10)\n",
    "print(values)"
   ]
  },
  {
   "source": [
    "# NumPy: Array of Random Integer Values\n",
    "The randint() NumPy function can be used to generate an array of random numbers, specifying the lower end of the range, the upper end of the range, and the number of integer values to generate.  Random integers are drawn from the range [lower, upper) i.e. including the lower value but excluding the upper value"
   ],
   "cell_type": "markdown",
   "metadata": {}
  },
  {
   "cell_type": "code",
   "execution_count": 15,
   "metadata": {},
   "outputs": [
    {
     "output_type": "stream",
     "name": "stdout",
     "text": [
      "[5 8 9 5 0 0 1 7 6 9 2 4 5 2 4 2 4 7 7 9]\n"
     ]
    }
   ],
   "source": [
    "# generate random integer values\n",
    "from numpy.random import seed\n",
    "from numpy.random import randint\n",
    "\n",
    "# seed random number generator\n",
    "seed(1)\n",
    "\n",
    "# generate some integers\n",
    "values = randint(0, 10, 20)\n",
    "print(values)"
   ]
  },
  {
   "source": [
    "# NumPy: Array of Random Gaussian Values\n",
    "An array of random Gaussian values can be generated using the randn() NumPy function, specifying the size of the resulting array.  Values are drawn from a standard Gaussian distribution with mean 0.0 and standard deviation 1.0\n",
    "\n",
    "Values can be scaled by:\n",
    "- multiplying the value by the standard deviation\n",
    "- adding the mean\n",
    "\n",
    "from the desired scaled distribution\n",
    "\n",
    "scaledvalue = mean + ( value x stdev )"
   ],
   "cell_type": "markdown",
   "metadata": {}
  },
  {
   "cell_type": "code",
   "execution_count": 16,
   "metadata": {},
   "outputs": [
    {
     "output_type": "stream",
     "name": "stdout",
     "text": [
      "[ 1.62434536 -0.61175641 -0.52817175 -1.07296862  0.86540763 -2.3015387\n  1.74481176 -0.7612069   0.3190391  -0.24937038]\n"
     ]
    }
   ],
   "source": [
    "# generate random Gaussian values\n",
    "from numpy.random import seed\n",
    "from numpy.random import randn\n",
    "\n",
    "# seed random number generator\n",
    "seed(1)\n",
    "\n",
    "# generate some Gaussian values\n",
    "values = randn(10)\n",
    "print(values)"
   ]
  },
  {
   "source": [
    "# NumPy: Shuffle NumPy Array\n",
    "A NumPy array can be randomly shuffled in place using the shuffle() NumPy function"
   ],
   "cell_type": "markdown",
   "metadata": {}
  },
  {
   "cell_type": "code",
   "execution_count": 17,
   "metadata": {},
   "outputs": [
    {
     "output_type": "stream",
     "name": "stdout",
     "text": [
      "[0, 1, 2, 3, 4, 5, 6, 7, 8, 9, 10, 11, 12, 13, 14, 15, 16, 17, 18, 19]\n[3, 16, 6, 10, 2, 14, 4, 17, 7, 1, 13, 0, 19, 18, 9, 15, 8, 12, 11, 5]\n"
     ]
    }
   ],
   "source": [
    "# randomly shuffle a sequence\n",
    "from numpy.random import seed\n",
    "from numpy.random import shuffle\n",
    "\n",
    "# seed random number generator\n",
    "seed(1)\n",
    "\n",
    "# prepare a sequence\n",
    "sequence = [i for i in range(20)]\n",
    "print(sequence)\n",
    "\n",
    "# randomly shuffle the sequence\n",
    "shuffle(sequence)\n",
    "print(sequence)"
   ]
  },
  {
   "source": [
    "# When to Seed the Random Number Generator\n",
    "There are times during a predictive modeling project when you should consider seeding the random number generator e.g.\n",
    "- Data Preparation - this must be consistent so that the data is always prepared in the same way during fitting, evaluation and when making predictions with the final model\n",
    "- Data Splits - splits for train/test or k-fold must be made consistently to ensure that each algorithm is trained and evaluated in the same way on the same subsamples of data\n",
    "- demonstrating an algorithm in a tutorial environment"
   ],
   "cell_type": "markdown",
   "metadata": {}
  },
  {
   "source": [
    "# How to Control for Randomness\n",
    "A stochastic machine learning algorithm will learn slightly differently each time it is run on the same data, resulting in a model with slightly different performance each time it is trained.\n",
    "We can fit the model using the same sequence of random numbers each time.  When evaluating a model this is a bad practice, as it hides the inherent uncertainty within the model.\n",
    "A better approach is to evaluate the algorithm in such a way that the reported performance includes the measured uncertainty in the performance of the algorithm.  This can be done by repeating the evaluation of the algorithm multiple times with different sequences of random numbers.\n",
    "There are two aspects of uncertainty to consider:\n",
    "- Data Uncertainty - evaluating an algorithm on multiple splits of the data gives insight into how the algorithm's perfomance varies with changes to the train and test data\n",
    "- Algorithm Uncertaintly - evaluating an algorithm multiple times on the same splits of data will give insight into how the algorithm performance varies alone\n",
    "\n",
    "In general, both of these sources of uncertainty should be reported\n",
    "\n",
    "In summary:\n",
    "- there are times when randomness requires careful Control\n",
    "- there are times when the randomness needs to be controlled for"
   ],
   "cell_type": "markdown",
   "metadata": {}
  },
  {
   "source": [
    "# Extensions"
   ],
   "cell_type": "markdown",
   "metadata": {}
  },
  {
   "cell_type": "code",
   "execution_count": 18,
   "metadata": {},
   "outputs": [
    {
     "output_type": "stream",
     "name": "stdout",
     "text": [
      "[2 4 2 4 7 7 9 1 7 0]\n[6 9 9 7 6 9 1 0 1 8]\n"
     ]
    }
   ],
   "source": [
    "# Confirm that seeding the Python pseudorandom number generator does not impact the NumPy pseudorandom number generator\n",
    "from random import seed\n",
    "from numpy.random import randint\n",
    "\n",
    "# seed random number generator using Python\n",
    "seed(1)\n",
    "\n",
    "# generate some integers using NumPy\n",
    "values = randint(0, 10, 10)\n",
    "print(values)\n",
    "\n",
    "# seed random number generator using Python\n",
    "seed(1)\n",
    "\n",
    "# generate some integers using NumPy - a different sequence will be generated\n",
    "values = randint(0, 10, 10)\n",
    "print(values)"
   ]
  },
  {
   "cell_type": "code",
   "execution_count": 28,
   "metadata": {},
   "outputs": [
    {
     "output_type": "stream",
     "name": "stdout",
     "text": [
      "NumPy random integer between 0 and 10\n[3 8 3 5 6 7 5 1 7 0]\n\nNumPy random integer between 10 and 20\n[12 18 12 11 14 10 14 11 17 13]\n\nPython random integer between 0 and 10\n3\n9\n10\n6\n9\n3\n7\n1\n10\n6\n\nPython random integer between 10 and 20\n14\n18\n17\n10\n15\n19\n16\n14\n10\n12\n\nPython float (to 2 dp) between 0 and 1000\n200.85\n327.74\n987.05\n782.70\n339.10\n213.03\n674.46\n837.70\n932.19\n343.85\n"
     ]
    }
   ],
   "source": [
    "# Practice generating random numbers between different ranges\n",
    "from numpy.random import randint\n",
    "\n",
    "print('NumPy random integer between 0 and 10')\n",
    "values = randint(0, 10, 10)\n",
    "print(values)\n",
    "print('')\n",
    "\n",
    "print('NumPy random integer between 10 and 20')\n",
    "values = randint(10, 20, 10)\n",
    "print(values)\n",
    "print('')\n",
    "\n",
    "print('Python random integer between 0 and 10')\n",
    "from random import randint\n",
    "for _ in range(10):\n",
    "    value = randint(0, 10)\n",
    "    print(value)\n",
    "print('')\n",
    "\n",
    "print('Python random integer between 10 and 20')\n",
    "for _ in range(10):\n",
    "    value = randint(10, 20)\n",
    "    print(value)\n",
    "print('')\n",
    "\n",
    "print('Python float (to 2 dp) between 0 and 1000')\n",
    "from random import random\n",
    "for _ in range(10):\n",
    "    value = (random() * 1000)\n",
    "    print('%.2f' % value)"
   ]
  },
  {
   "cell_type": "code",
   "execution_count": 33,
   "metadata": {},
   "outputs": [
    {
     "output_type": "stream",
     "name": "stdout",
     "text": [
      "[21, 57, 45, 49, 77, 9, 61, 73, 69, 41]\n[21, 45, 23, 58, 63, 51, 62, 0, 42, 48]\n[21, 78, 50, 2, 58, 66, 42, 26, 74, 18]\n[21, 58, 9, 62, 37, 82, 1, 6, 85, 66]\n"
     ]
    }
   ],
   "source": [
    "# Locate the equation for and implement a very simple pseudorandom number generator\n",
    "def get_random_sequence(seed, modulus, multiplier, increment):\n",
    "    values = [seed]\n",
    "    for i in range(1, 10):\n",
    "        values.append(((multiplier * values[i-1]) + increment) % modulus )\n",
    "    return values\n",
    "\n",
    "print(get_random_sequence(21, 88, 51, 42))\n",
    "print(get_random_sequence(21, 89, 51, 42))\n",
    "print(get_random_sequence(21, 88, 52, 42))\n",
    "print(get_random_sequence(21, 88, 51, 43))"
   ]
  }
 ]
}