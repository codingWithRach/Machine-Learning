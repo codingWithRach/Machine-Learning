{
 "metadata": {
  "language_info": {
   "codemirror_mode": {
    "name": "ipython",
    "version": 3
   },
   "file_extension": ".py",
   "mimetype": "text/x-python",
   "name": "python",
   "nbconvert_exporter": "python",
   "pygments_lexer": "ipython3",
   "version": "3.8.5-final"
  },
  "orig_nbformat": 2,
  "kernelspec": {
   "name": "python3",
   "display_name": "Python 3.8.5 64-bit (conda)",
   "metadata": {
    "interpreter": {
     "hash": "a6d5379567e5c9aa2d153209ef4a1d00a383d1ae7f32ebada2471f125a521807"
    }
   }
  }
 },
 "nbformat": 4,
 "nbformat_minor": 2,
 "cells": [
  {
   "source": [
    "Chapter 23\n",
    "# Rank Data"
   ],
   "cell_type": "markdown",
   "metadata": {}
  },
  {
   "source": [
    "A large portion of the field of statistics and statistical methods is dedicated to data where the distribution is known.  Samples of data where we already know (or can easily identify) the distriubution are called parametric data.\n",
    "\n",
    "Data in which the distribution is unknown (or cannot be easily identified) is called nonparametric.  In this case, special nonparametric statistical methods can be used that discard all information about the distribution (thus these methods are often referred to as distribution-free methods)."
   ],
   "cell_type": "markdown",
   "metadata": {}
  },
  {
   "source": [
    "# Parametric Data\n",
    "This is a sample of data drawn from a known data distribution.  It is often shorthand for real-valued data drawn from a Gaussian distribution (although not strictly accurate)\n",
    "\n",
    "If we continue with the shorthand of parametric meaning Gaussian, then if we have parametric data we can harness the entire suite of statistical methods developed for data assuming a Gaussian distribution e.g.\n",
    "- Summary statistics\n",
    "- Correlation between variables\n",
    "- Significance tests for comparing means\n",
    "\n",
    "Often we will use data preparation methods sthat make data parametric, such as data transforms, so that we can harness these well-understood statistical methods."
   ],
   "cell_type": "markdown",
   "metadata": {}
  },
  {
   "source": [
    "# Nonparametric Data\n",
    "This is data that does not fit a known or well-understood distribution.  Data could be nonparametric for many reasons e.g.\n",
    "- data is not real-valued, but is instead ordinals, intervals or some other form\n",
    "- data is real-valued but does not fit a well understood shape\n",
    "- data is almost parametric but contains outliers, multiple peaks, a shift or some other feature\n",
    "\n",
    "Most parametric methods have an equivalent nonparametric version.  However, in general, the findings from nonparametric methods are less powerful than their parametric counterparts, namely because they must be generalised to work for all types of data.  Information about the distribution is discarded."
   ],
   "cell_type": "markdown",
   "metadata": {}
  },
  {
   "source": [
    "# Ranking Data\n",
    "Before a nonparametric statistical method can be applied, the data must be converted into a rank format.  Statistical methods that expect data in rank format are sometimes called rank statistics, such as rank correlation and rank statistical hypothesis tests.\n",
    "\n",
    "The procedure to rank data:\n",
    "- sort all data in the sample in ascending order\n",
    "- assign an integer rank from 1 to N for each unique value in the data sample\n",
    "\n",
    "There are variations on this procedure for special circumstances such as:\n",
    "- handling ties\n",
    "- using a reverse ranking\n",
    "- using a fractional rank score\n",
    "\n",
    "The SciPy library provides the rankdata() function to rank numerical data, and supports a number of variations."
   ],
   "cell_type": "markdown",
   "metadata": {}
  },
  {
   "cell_type": "code",
   "execution_count": 1,
   "metadata": {},
   "outputs": [
    {
     "output_type": "stream",
     "name": "stdout",
     "text": [
      "[4.17022005e-01 7.20324493e-01 1.14374817e-04 3.02332573e-01\n 1.46755891e-01 9.23385948e-02 1.86260211e-01 3.45560727e-01\n 3.96767474e-01 5.38816734e-01]\n[408. 721.   1. 300. 151.  93. 186. 342. 385. 535.]\n"
     ]
    }
   ],
   "source": [
    "# example of ranking real-valued observations\n",
    "from numpy.random import rand\n",
    "from numpy.random import seed\n",
    "from scipy.stats import rankdata\n",
    "\n",
    "# seed random number generator\n",
    "seed(1)\n",
    "\n",
    "# generate dataset from a uniform distribution\n",
    "data = rand(1000)\n",
    "\n",
    "# review first 10 samples\n",
    "print(data[:10])\n",
    "\n",
    "# rank data\n",
    "ranked = rankdata(data)\n",
    "\n",
    "# review first 10 ranked samples\n",
    "print(ranked[:10])"
   ]
  },
  {
   "source": [
    "# Working with Ranked Data\n",
    "There are statistical tools you can use to check if your sample fits a given distribution.  For example, you can use statistical methods that quantify how Gaussian a sample of data is, and use nonparametric methods if the data fails those tests.\n",
    "\n",
    "Three examples of statistical methods for normality testing are:\n",
    "- Shapiro-Wilk Test\n",
    "- D'Agostino's K2 Test\n",
    "- Anderson-Darling Test\n",
    "\n",
    "Once you have decided to use nonparametric statistics, you must then rank your data.  Most of the tools used for inference will automatically perform the ranking of sample data.  Nevertheless, it is important to understand how your sample data is being transformed prior to performing the tests.\n",
    "\n",
    "There are two main types of questions you may have about your data that you can address with nonparametric statistical methods:\n",
    "- Relationship Between Variables\n",
    "- Compare Sample Means"
   ],
   "cell_type": "markdown",
   "metadata": {}
  },
  {
   "source": [
    "# Relationship Between Variables\n",
    "Methods for quantifying the dependency between variables are called correlation methods.  Nonparametric statistical correlation methods include:\n",
    "- Spearman's Rank Correlation\n",
    "- Kendall's Rank Correlation\n",
    "- Goodman and Kruskal's Rank Correlation\n",
    "- Somers' Rank Correlation"
   ],
   "cell_type": "markdown",
   "metadata": {}
  },
  {
   "source": [
    "# Compare Sample Means\n",
    "Methods for quantifying whether or not the mean between two populations is significantly different are called statistical significance tests, and include:\n",
    "- Mann-Whitney U Test\n",
    "- Wilcoxon Signed-Rank Test\n",
    "- Kruskal-Wallis H Test\n",
    "- Friedman Test"
   ],
   "cell_type": "markdown",
   "metadata": {}
  },
  {
   "source": [
    "# Extensions"
   ],
   "cell_type": "markdown",
   "metadata": {}
  },
  {
   "cell_type": "code",
   "execution_count": 8,
   "metadata": {},
   "outputs": [
    {
     "output_type": "stream",
     "name": "stdout",
     "text": [
      "default: [1.  2.5 4.  2.5]\nmin: [1 2 4 2]\nmax: [1 3 4 3]\ndense: [1 2 3 2]\nordinal [1 2 4 3]\n"
     ]
    }
   ],
   "source": [
    "# develop your own example to demonstrate the capabilites of the rankdata() function\n",
    "from scipy.stats import rankdata\n",
    "\n",
    "print('default:', rankdata([0, 2, 3, 2]))\n",
    "print('min:', rankdata([0, 2, 3, 2], method='min'))\n",
    "print('max:', rankdata([0, 2, 3, 2], method='max'))\n",
    "print('dense:', rankdata([0, 2, 3, 2], method='dense'))\n",
    "print('ordinal', rankdata([0, 2, 3, 2], method='ordinal'))"
   ]
  },
  {
   "cell_type": "code",
   "execution_count": null,
   "metadata": {},
   "outputs": [],
   "source": []
  }
 ]
}