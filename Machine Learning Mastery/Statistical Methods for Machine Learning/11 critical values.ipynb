{
 "metadata": {
  "language_info": {
   "codemirror_mode": {
    "name": "ipython",
    "version": 3
   },
   "file_extension": ".py",
   "mimetype": "text/x-python",
   "name": "python",
   "nbconvert_exporter": "python",
   "pygments_lexer": "ipython3",
   "version": "3.8.5-final"
  },
  "orig_nbformat": 2,
  "kernelspec": {
   "name": "python3",
   "display_name": "Python 3",
   "language": "python"
  }
 },
 "nbformat": 4,
 "nbformat_minor": 2,
 "cells": [
  {
   "source": [
    "Chapter 11\n",
    "# Critical Values"
   ],
   "cell_type": "markdown",
   "metadata": {}
  },
  {
   "source": [
    "Not all implementations of statistical tests return p-values.  In some cases, you must use an alternative method for interpreting the calculated test statistic directly, such as critical values.  In addition, critical values are used when estimating the expected intervals for observations from a population, such as tolerance intervals.\n",
    "\n",
    "Some examples of statistical hypothesis tests and their distributions from which critical values can be calculated are:\n",
    "- Z-Test - Gaussian distribution\n",
    "- Student's t-Test - Student's t-distribution\n",
    "- Chi-Squared Test - Chi-Squared distribution\n",
    "- ANOVA - F-distribution\n",
    "\n",
    "Critical values are also used when defining intervals for expected (or unexpected) observations in distributions\n",
    "\n",
    "Note that a p-value can be calculated from a test statistic by retrieving the probability from the test statistic's cumulative density function (CDF)\n",
    "\n",
    "For most common distributions, the value cannot be calculated analytically; instead it must be estimated using numerical methods.  Historically, it is common for tables of pre-calculated critical values to be provided in statistics textbooks."
   ],
   "cell_type": "markdown",
   "metadata": {}
  },
  {
   "source": [
    "A critical value is a value from the distribution of the test statistic, after which point the result is significant and H0 can be rejected:\n",
    "- test statistic < critical value: non-significant result, so fail to reject H0\n",
    "- test statistic >= critical value: significant result, so reject null hypothesis and accept H1\n",
    "\n",
    "The observation values in the population beyond the critical value are often called the critical region, or the region of rejection.\n",
    "\n",
    "Results are presented as either significance level (alpha) or confidence level:\n",
    "- confidence level = 1 - significance level\n",
    "\n",
    "Standard alpha values are often used when calculating critical values, chosen for historical reasons and continually used for consistency reasons.  These alpha values include:\n",
    "- 1% (alpha = 0.01) i.e. confidence 99%\n",
    "- 5% (alpha = 0.05) i.e. confidence 95%\n",
    "- 10% (alpha = 0.10) i.e. confidence 90%"
   ],
   "cell_type": "markdown",
   "metadata": {}
  },
  {
   "source": [
    "# One-Tailed Test\n",
    "A one-tailed test has a single critical value, such as on the left or the right of the dsitrbution.\n",
    "\n",
    "Often, a one-tailed test has a critical value on the right of the distribution for non-symmetrical distributions (such as Chi-Squared).\n",
    "- test statistic <= critical value: non-significant result, so fail to reject H0\n",
    "- test statistic > critical value: significant result, so reject null hypothesis and accept H1"
   ],
   "cell_type": "markdown",
   "metadata": {}
  },
  {
   "source": [
    "# Two-Tailed Test\n",
    "A two-tailed test has 2 critical values, one on each side of the distrbution, which is often assumed to be symmetrical (e.g. Gaussian and Student t-distributions).\n",
    "\n",
    "When using a two-tailed test, a significance value (alpha) used in the calculation of critical values must be divided in 2.  The critical value will then use half of this alpha on each side of the distribution.\n",
    "\n",
    "e.g. alpha = 5%.  For a 95% acceptance area in the middle of the distribution, there is an alpha value of 2.5% on each side of the distribution.  \n",
    "- lower critical value <= test statistic <= upper critical value: non-significant result, so fail to reject H0\n",
    "- test statistic < lower critical value or test statistic > upper critical value: significant result, so reject null hypothesis and accept H1\n",
    "\n",
    "If the distribution is symmetric around a mean of zero, we can shortcut the check by comparing the absolute value of the test statistic to the upper critical value: \n",
    "- |test statistic| <= upper critical value: non-significant result, so fail to reject H0\n",
    "- |test statistic| > upper critical value: significant result, so reject null hypothesis and accept H1\n"
   ],
   "cell_type": "markdown",
   "metadata": {}
  },
  {
   "source": [
    "# How to Calculate Critical Values\n",
    "Remember that the Cumulative Density Function (CDF) returns the probability for an observation less than or equal to an specific value from the distribution.\n",
    "\n",
    "We want the opposite: to return the observation value less than or equal to a specific probability from the distribution.\n",
    "\n",
    "This is known as the Percent Point Function (PPF).  A value from the distribution will be less than or equal to the value returned from the PPF with the specified probability.\n",
    "\n",
    "The ppf can be calculated using the ppf() function in SciPy, and also using the inverse survival function called isf()"
   ],
   "cell_type": "markdown",
   "metadata": {}
  },
  {
   "source": [
    "Note the 68-95-99.7 rule, which states:\n",
    "- ~68% of values lie within one standard deviation of the mean\n",
    "- ~95% of values lie within two standard deviations of the mean \n",
    "- ~99.7% of values lie within three standard deviations of the mean\n",
    "\n",
    "The above is an approximation for simplicity:\n",
    "- 95.45% is a more accurate % corresponding to 2 standard deviations\n",
    "- 1.96 standard deviations is a more accurate figure corresponding to 95%"
   ],
   "cell_type": "markdown",
   "metadata": {}
  },
  {
   "cell_type": "code",
   "execution_count": 26,
   "metadata": {},
   "outputs": [
    {
     "output_type": "stream",
     "name": "stdout",
     "text": [
      "Critical Value: 1.6448536269514722\nProbability: 0.95\n"
     ]
    }
   ],
   "source": [
    "# gaussian percent point function\n",
    "from scipy.stats import norm\n",
    "\n",
    "# define probability\n",
    "p = 0.95\n",
    "\n",
    "# retrieve the value that marks 95% or less of the observations from the distribution\n",
    "value = norm.ppf(p)\n",
    "print('Critical Value:', value)\n",
    "\n",
    "# confirm by using cdf to retrieve the probability\n",
    "p = norm.cdf(value)\n",
    "print('Probability:', p)"
   ]
  },
  {
   "cell_type": "code",
   "execution_count": 27,
   "metadata": {},
   "outputs": [
    {
     "output_type": "stream",
     "name": "stdout",
     "text": [
      "Critical Value: 1.8124611228107335\nProbability: 0.949999999999923\n"
     ]
    }
   ],
   "source": [
    "# student t-distribution percent point function\n",
    "from scipy.stats import t\n",
    "\n",
    "# define probability and degrees of freedom\n",
    "p = 0.95\n",
    "df = 10\n",
    "\n",
    "# retrieve value <= probability\n",
    "value = t.ppf(p, df)\n",
    "print('Critical Value:', value)\n",
    "\n",
    "# confirm by using cdf to retrieve the probability\n",
    "p = t.cdf(value, df)\n",
    "print('Probability:', p)"
   ]
  },
  {
   "cell_type": "code",
   "execution_count": 28,
   "metadata": {},
   "outputs": [
    {
     "output_type": "stream",
     "name": "stdout",
     "text": [
      "Critical Value: 18.307038053275146\nProbability: 0.95\n"
     ]
    }
   ],
   "source": [
    "# chi-squared percent point function\n",
    "from scipy.stats import chi2\n",
    "\n",
    "# define probability and degrees of freedom\n",
    "p = 0.95\n",
    "df = 10\n",
    "\n",
    "# retrieve value <= probability\n",
    "value = chi2.ppf(p, df)\n",
    "print('Critical Value:', value)\n",
    "\n",
    "# confirm by using cdf to retrieve the probability\n",
    "p = chi2.cdf(value, df)\n",
    "print('Probability:', p)"
   ]
  },
  {
   "source": [
    "# Extensions"
   ],
   "cell_type": "markdown",
   "metadata": {}
  },
  {
   "cell_type": "code",
   "execution_count": 29,
   "metadata": {},
   "outputs": [
    {
     "output_type": "stream",
     "name": "stdout",
     "text": [
      "Probability 0.90 : Critical Value 1.2815515655446004\nProbability 0.95 : Critical Value 1.6448536269514722\nProbability 0.99 : Critical Value 2.3263478740408408\n"
     ]
    }
   ],
   "source": [
    "# calculate critical values for 90%, 95% and 99% for the Gaussian distribution\n",
    "from scipy.stats import norm\n",
    "\n",
    "def get_critical_value(p):\n",
    "    return norm.ppf(p)\n",
    "\n",
    "print('Probability 0.90 : Critical Value', get_critical_value(0.90))\n",
    "print('Probability 0.95 : Critical Value', get_critical_value(0.95))\n",
    "print('Probability 0.99 : Critical Value', get_critical_value(0.99))"
   ]
  },
  {
   "cell_type": "code",
   "execution_count": 30,
   "metadata": {},
   "outputs": [
    {
     "output_type": "stream",
     "name": "stdout",
     "text": [
      "Critical Value 1.96 : Probability 0.9750021048517795\n"
     ]
    }
   ],
   "source": [
    "# calculate a p-value from a critical value for the Gaussian distribution\n",
    "from scipy.stats import norm\n",
    "\n",
    "def get_probability(critical_value):\n",
    "    return norm.cdf(critical_value)\n",
    "\n",
    "print('Critical Value 1.96 : Probability', get_probability(1.96))"
   ]
  },
  {
   "cell_type": "code",
   "execution_count": 31,
   "metadata": {},
   "outputs": [
    {
     "output_type": "stream",
     "name": "stdout",
     "text": [
      "Probability 0.90 : Df 10 : Critical Value 1.3721836411102863\nProbability 0.95 : Df 10 : Critical Value 1.8124611228107335\nProbability 0.99 : Df 10 : Critical Value 2.763769457447889\n"
     ]
    }
   ],
   "source": [
    "# calculate critical values for 90%, 95% and 99% for the Student's t-distribution\n",
    "from scipy.stats import t\n",
    "\n",
    "def get_critical_value(p, df):\n",
    "    return t.ppf(p, df)\n",
    "\n",
    "print('Probability 0.90 : Df 10 : Critical Value', get_critical_value(0.90, 10))\n",
    "print('Probability 0.95 : Df 10 : Critical Value', get_critical_value(0.95, 10))\n",
    "print('Probability 0.99 : Df 10 : Critical Value', get_critical_value(0.99, 10))"
   ]
  },
  {
   "cell_type": "code",
   "execution_count": 32,
   "metadata": {},
   "outputs": [
    {
     "output_type": "stream",
     "name": "stdout",
     "text": [
      "Critical Value 2.0 : Df 60 : Probability 0.9749834781742712\nCritical Value 1.812 : Df 10 : Probability 0.9499623689670763\n"
     ]
    }
   ],
   "source": [
    "# calculate a p-value from a critical value for the Student's t-distribution\n",
    "from scipy.stats import t\n",
    "\n",
    "def get_probability(critical_value, df):\n",
    "    return t.cdf(critical_value, df)\n",
    "\n",
    "print('Critical Value 2.0 : Df 60 : Probability', get_probability(2.0, 60))\n",
    "print('Critical Value 1.812 : Df 10 : Probability', get_probability(1.812, 10))"
   ]
  },
  {
   "cell_type": "code",
   "execution_count": 33,
   "metadata": {},
   "outputs": [
    {
     "output_type": "stream",
     "name": "stdout",
     "text": [
      "Probability 0.90 : Df 10 : Critical Value 15.987179172105265\nProbability 0.95 : Df 10 : Critical Value 18.307038053275146\nProbability 0.99 : Df 10 : Critical Value 23.209251158954356\n"
     ]
    }
   ],
   "source": [
    "# calculate critical values for 90%, 95% and 99% for the Chi-Squared distribution\n",
    "from scipy.stats import chi2\n",
    "\n",
    "def get_critical_value(p, df):\n",
    "    return chi2.ppf(p, df)\n",
    "\n",
    "print('Probability 0.90 : Df 10 : Critical Value', get_critical_value(0.90, 10))\n",
    "print('Probability 0.95 : Df 10 : Critical Value', get_critical_value(0.95, 10))\n",
    "print('Probability 0.99 : Df 10 : Critical Value', get_critical_value(0.99, 10))"
   ]
  },
  {
   "cell_type": "code",
   "execution_count": 34,
   "metadata": {},
   "outputs": [
    {
     "output_type": "stream",
     "name": "stdout",
     "text": [
      "Critical Value 18.31 : Df 10 : Probability 0.9500458336563032\nCritical Value 20 : Df 5 : Probability 0.9987502694369687\n"
     ]
    }
   ],
   "source": [
    "# calculate a p-value from a critical value for the Chi-Squared distribution\n",
    "# chi-squared percent point function\n",
    "from scipy.stats import chi2\n",
    "\n",
    "def get_probability(critical_value, df):\n",
    "    return chi2.cdf(critical_value, df)\n",
    "\n",
    "print('Critical Value 18.31 : Df 10 : Probability', get_probability(18.31, 10))\n",
    "print('Critical Value 20 : Df 5 : Probability', get_probability(20, 5))"
   ]
  },
  {
   "cell_type": "code",
   "execution_count": 35,
   "metadata": {},
   "outputs": [
    {
     "output_type": "stream",
     "name": "stdout",
     "text": [
      "Degrees of Freedom: d1 = 4, d2 = 26\nProbability 0.90 : Critical Value 2.174469193431442\nProbability 0.95 : Critical Value 2.7425941372218587\nProbability 0.99 : Critical Value 4.1399604836950115\n"
     ]
    }
   ],
   "source": [
    "# calculate critical values for 90%, 95% and 99% for the F distribution\n",
    "from scipy.stats import f\n",
    "\n",
    "def get_critical_value(p):\n",
    "    return f.ppf(p, dfn=4, dfd=26)\n",
    "\n",
    "print('Degrees of Freedom: d1 = 4, d2 = 26')\n",
    "print('Probability 0.90 : Critical Value', get_critical_value(0.90))\n",
    "print('Probability 0.95 : Critical Value', get_critical_value(0.95))\n",
    "print('Probability 0.99 : Critical Value', get_critical_value(0.99))"
   ]
  },
  {
   "cell_type": "code",
   "execution_count": null,
   "metadata": {},
   "outputs": [],
   "source": []
  }
 ]
}