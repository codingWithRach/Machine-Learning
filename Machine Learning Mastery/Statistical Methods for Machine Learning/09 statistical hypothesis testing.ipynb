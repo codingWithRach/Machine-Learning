{
 "metadata": {
  "language_info": {
   "codemirror_mode": {
    "name": "ipython",
    "version": 3
   },
   "file_extension": ".py",
   "mimetype": "text/x-python",
   "name": "python",
   "nbconvert_exporter": "python",
   "pygments_lexer": "ipython3",
   "version": 3
  },
  "orig_nbformat": 2
 },
 "nbformat": 4,
 "nbformat_minor": 2,
 "cells": [
  {
   "source": [
    "Chapter 9\n",
    "# Statistical Hypothesis Testing"
   ],
   "cell_type": "markdown",
   "metadata": {}
  },
  {
   "source": [
    "We can interpret data by assuming a specific structured outcome (hypothesis), and use statistical methods to confirm or reject the assumption (statistical hypothesis tests).\n",
    "\n",
    "Whenever we want to make claims about the distribution of data, or whether one set of results is different from another set of results in applied machine learning, we must rely on statistic hypothesis tests.\n",
    "\n",
    "Two examples used a lot in machine learning are:\n",
    "- a test that assumes that data has a normal distribution\n",
    "- a test that assumes that two samples were drawn from the same underlying population distribution\n",
    "\n",
    "The assumption of a statistical test is called the null hypothesis (H0).  A violation of the test's assumption is often called H1:\n",
    "- H0 - assumption of the test fails to be rejected\n",
    "- H1 - assumption of the test does not hold, and is rejected at some level of significance"
   ],
   "cell_type": "markdown",
   "metadata": {}
  },
  {
   "source": [
    "# p-value\n",
    "A statistical hypothesis test may return a value called p, or the p-value.  We describe a finding as statistically significant by interpreting the p-value.  We can use this to interpret or quantify the result of the test, and either reject or fail to reject H0.  This is done by conmparing the p-value to a threshold value chosen beforehand, called the significance level.\n",
    "\n",
    "The significance level is often referred to by the Greek lower case letter alpha, and a common value is 5% or 0.05.  A smaller alpha value suggests a more robust interpretation of the result, such as 1% or 0.01\n",
    "\n",
    "A result is statistically significant when the p-value is less than or equal to alpha:\n",
    "- p-value <= alpha - significant result (i.e. there was a low chance of obtaining this result, given the null hypothesis), so reject null hypothesis.  Thus accept alternative hypothesis H1\n",
    "- p-value > alpha - non-significant result (i.e. there was a high chance of obtaining this result, given the null hypothesis), so fail to reject null hypothesis H0 (do not use the language accept: the result is probabalistic, so H0 still has a small chance of being wrong)\n",
    "\n",
    "The confidence level is calculated as 1 - significance level."
   ],
   "cell_type": "markdown",
   "metadata": {}
  },
  {
   "source": [
    "Common p-value misinterpretations:\n",
    "- True or False Null Hypothesis - the interpretation of the p-value does not mean that H0 is true or false.  It means that we have chosen to reject, or fail to reject, H0 at a specific statistical significance level based on empirical evidence an the chosen statistical test.\n",
    "- p-value as Probability - a common misunderstanding is that the p-value is a probability of H0 being true or false given the data.  This is incorrect: it is the probability of the data given the pre-specified assumption embedded in the statistica test i.e. Pr(data | hypothesis).  It allows us to reason whether or not the data fits the hypothesis, not the other way round.\n",
    "- Post-Hoc Tuning - you can NOT re-sample your domain or tune your data sample and re-run the statistical test until you achieve a desired result.  You can NOT choose your p-value after you run the test.  This is at best unethical, and at worst fraud."
   ],
   "cell_type": "markdown",
   "metadata": {}
  },
  {
   "source": [
    "# Interpret Critical Values\n",
    "Some tests return a test statistic value from a specific data distribution, that can be interpreted in the context of critical values (instead of returning a p-value)\n",
    "\n",
    "A critical value is a value from the distribution of the test statistic, after which point the result is significant and H0 can be rejected:\n",
    "- test statistic < critical value: non-significant result, so fail to reject H0\n",
    "- test statistic >= critical value: significant result, so reject null hypothesis and accept H1\n",
    "\n",
    "The p-value is calculated from the critical value\n"
   ],
   "cell_type": "markdown",
   "metadata": {}
  },
  {
   "source": [
    "# Errors in Statistical Tests\n",
    "The interpretation of a statistical hypothesis test is probabilistic: the evidence of the test may suggest an outcome and be mistaken:\n",
    "- Type I Error - false positive i.e. we falsely believe the rejection of the (true) null hypothesis\n",
    "- Type II Error - false negative i.e. we falsely believe the null hypothesis or assumption of the statistical test, and incorrectly fail to reject it\n",
    "\n",
    "Ideally we want to choose a significance level that minimises the likelihood of one of these errors.  Nevertheless, these types of error are always present, and must be kept in mind when presenting and interpreting the results of statistical tests.\n"
   ],
   "cell_type": "markdown",
   "metadata": {}
  },
  {
   "source": [
    "# Degrees of Freedom\n",
    "The degrees of freedom (df or dof) is the number of independent pieces of information that are used to estimate a parameter or calculate a statistic from the data sample\n",
    "\n",
    "df is always equal to or less than the size of the sample (n).  If the statistic being calculated makes use of another statistic in an intermediate step the df must be corrected via a subtraction\n",
    "\n",
    "e.g. when calculating the sample mean as an estimate of the population mean, df = n (sample size)\n",
    "\n",
    "e.g. when calculating the sample variance as an estimate of the population variance, we use the sample mean in the calculation.  We must therefore correct the df to n-1."
   ],
   "cell_type": "markdown",
   "metadata": {}
  }
 ]
}